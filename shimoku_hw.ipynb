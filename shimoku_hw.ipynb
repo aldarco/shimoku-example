{
 "cells": [
  {
   "cell_type": "markdown",
   "id": "57c9cacb-b6c5-49e4-9961-1bcff9c675ea",
   "metadata": {},
   "source": [
    "# Example code usinf shimoku SDK\n",
    "This Jupyter notebook was run using Windows subsystem for Linux sice there were some dependencies for shimoku_api_python that could not be installed on Windows directly."
   ]
  },
  {
   "cell_type": "code",
   "execution_count": 1,
   "id": "38a03674-3dbe-489a-8c6d-b7a47ffe96cb",
   "metadata": {},
   "outputs": [
    {
     "name": "stderr",
     "output_type": "stream",
     "text": [
      "/home/aldo/.local/lib/python3.10/site-packages/pydantic/_migration.py:288: UserWarning: `pydantic.utils:lenient_issubclass` has been removed. We are importing from `pydantic.v1.utils:lenient_issubclass` instead.See the migration guide for more details: https://docs.pydantic.dev/latest/migration/\n",
      "  warnings.warn(\n",
      "/home/aldo/.local/lib/python3.10/site-packages/pydantic/_migration.py:288: UserWarning: `pydantic.utils:smart_deepcopy` has been removed. We are importing from `pydantic.v1.utils:smart_deepcopy` instead.See the migration guide for more details: https://docs.pydantic.dev/latest/migration/\n",
      "  warnings.warn(\n"
     ]
    }
   ],
   "source": [
    "from os import getenv\n",
    "import shimoku_api_python as Shimoku"
   ]
  },
  {
   "cell_type": "code",
   "execution_count": 2,
   "id": "be46a1f8-50b4-4371-b01d-136ee9d13ba8",
   "metadata": {},
   "outputs": [],
   "source": [
    "# using the values directly insead of system variables\n",
    "access_token = \"ae095c1d-4620-44d6-9314-9752db105df3\"      #getenv('SHIMOKU_TOKEN')\n",
    "universe_id: str = \"0d2e9d92-7f6a-44d6-9542-ef642f264bfc\"  #getenv('UNIVERSE_ID')\n",
    "workspace_id: str = \"2af107a6-6e0d-4a07-aaff-9240a13ece3e\" #getenv('WORKSPACE_ID')\n",
    "\n",
    "s = Shimoku.Client(\n",
    "    access_token=access_token,\n",
    "    universe_id=universe_id,\n",
    ")\n",
    "s.set_workspace(uuid=workspace_id)\n",
    "\n"
   ]
  },
  {
   "cell_type": "code",
   "execution_count": 3,
   "id": "6cc7f3b3-fe41-4587-b9e7-56f769a4b5cb",
   "metadata": {},
   "outputs": [],
   "source": [
    "import matplotlib.pyplot as plt\n",
    "import pandas as pd\n",
    "import os\n",
    "import numpy as np\n"
   ]
  },
  {
   "cell_type": "code",
   "execution_count": 4,
   "id": "cad917a3-f654-4313-bc76-e24cd69765eb",
   "metadata": {},
   "outputs": [],
   "source": [
    "plt.rcParams[\"figure.figsize\"] = (8,6)\n",
    "plt.rcParams[\"font.size\"] = 12"
   ]
  },
  {
   "cell_type": "markdown",
   "id": "302212f1-5b72-41e3-b971-be5fb5220bcf",
   "metadata": {},
   "source": [
    "## Data from Githhub using pandas\n",
    "The data consists of a bunch of scores (points) assigned to several brands of coffee from diffrent countries, and also include some features like flavour, altitude color etc"
   ]
  },
  {
   "cell_type": "code",
   "execution_count": 5,
   "id": "0d04c49b-2e70-46f4-89ee-b134e14db2ff",
   "metadata": {},
   "outputs": [],
   "source": [
    "url = \"https://raw.githubusercontent.com/rfordatascience/tidytuesday/master/data/2020/2020-07-07/coffee_ratings.csv\"\n",
    "df = pd.read_csv(url, sep=\",\", on_bad_lines=\"skip\") # some badlines are skipped"
   ]
  },
  {
   "cell_type": "code",
   "execution_count": 6,
   "id": "89537c3a-a1df-4639-a569-f85814278678",
   "metadata": {},
   "outputs": [
    {
     "name": "stdout",
     "output_type": "stream",
     "text": [
      "(1339, 43)\n"
     ]
    },
    {
     "data": {
      "text/html": [
       "<div>\n",
       "<style scoped>\n",
       "    .dataframe tbody tr th:only-of-type {\n",
       "        vertical-align: middle;\n",
       "    }\n",
       "\n",
       "    .dataframe tbody tr th {\n",
       "        vertical-align: top;\n",
       "    }\n",
       "\n",
       "    .dataframe thead th {\n",
       "        text-align: right;\n",
       "    }\n",
       "</style>\n",
       "<table border=\"1\" class=\"dataframe\">\n",
       "  <thead>\n",
       "    <tr style=\"text-align: right;\">\n",
       "      <th></th>\n",
       "      <th>total_cup_points</th>\n",
       "      <th>species</th>\n",
       "      <th>owner</th>\n",
       "      <th>country_of_origin</th>\n",
       "      <th>farm_name</th>\n",
       "      <th>lot_number</th>\n",
       "      <th>mill</th>\n",
       "      <th>ico_number</th>\n",
       "      <th>company</th>\n",
       "      <th>altitude</th>\n",
       "      <th>...</th>\n",
       "      <th>color</th>\n",
       "      <th>category_two_defects</th>\n",
       "      <th>expiration</th>\n",
       "      <th>certification_body</th>\n",
       "      <th>certification_address</th>\n",
       "      <th>certification_contact</th>\n",
       "      <th>unit_of_measurement</th>\n",
       "      <th>altitude_low_meters</th>\n",
       "      <th>altitude_high_meters</th>\n",
       "      <th>altitude_mean_meters</th>\n",
       "    </tr>\n",
       "  </thead>\n",
       "  <tbody>\n",
       "    <tr>\n",
       "      <th>0</th>\n",
       "      <td>90.58</td>\n",
       "      <td>Arabica</td>\n",
       "      <td>metad plc</td>\n",
       "      <td>Ethiopia</td>\n",
       "      <td>metad plc</td>\n",
       "      <td>NaN</td>\n",
       "      <td>metad plc</td>\n",
       "      <td>2014/2015</td>\n",
       "      <td>metad agricultural developmet plc</td>\n",
       "      <td>1950-2200</td>\n",
       "      <td>...</td>\n",
       "      <td>Green</td>\n",
       "      <td>0</td>\n",
       "      <td>April 3rd, 2016</td>\n",
       "      <td>METAD Agricultural Development plc</td>\n",
       "      <td>309fcf77415a3661ae83e027f7e5f05dad786e44</td>\n",
       "      <td>19fef5a731de2db57d16da10287413f5f99bc2dd</td>\n",
       "      <td>m</td>\n",
       "      <td>1950.0</td>\n",
       "      <td>2200.0</td>\n",
       "      <td>2075.0</td>\n",
       "    </tr>\n",
       "    <tr>\n",
       "      <th>1</th>\n",
       "      <td>89.92</td>\n",
       "      <td>Arabica</td>\n",
       "      <td>metad plc</td>\n",
       "      <td>Ethiopia</td>\n",
       "      <td>metad plc</td>\n",
       "      <td>NaN</td>\n",
       "      <td>metad plc</td>\n",
       "      <td>2014/2015</td>\n",
       "      <td>metad agricultural developmet plc</td>\n",
       "      <td>1950-2200</td>\n",
       "      <td>...</td>\n",
       "      <td>Green</td>\n",
       "      <td>1</td>\n",
       "      <td>April 3rd, 2016</td>\n",
       "      <td>METAD Agricultural Development plc</td>\n",
       "      <td>309fcf77415a3661ae83e027f7e5f05dad786e44</td>\n",
       "      <td>19fef5a731de2db57d16da10287413f5f99bc2dd</td>\n",
       "      <td>m</td>\n",
       "      <td>1950.0</td>\n",
       "      <td>2200.0</td>\n",
       "      <td>2075.0</td>\n",
       "    </tr>\n",
       "    <tr>\n",
       "      <th>2</th>\n",
       "      <td>89.75</td>\n",
       "      <td>Arabica</td>\n",
       "      <td>grounds for health admin</td>\n",
       "      <td>Guatemala</td>\n",
       "      <td>san marcos barrancas \"san cristobal cuch</td>\n",
       "      <td>NaN</td>\n",
       "      <td>NaN</td>\n",
       "      <td>NaN</td>\n",
       "      <td>NaN</td>\n",
       "      <td>1600 - 1800 m</td>\n",
       "      <td>...</td>\n",
       "      <td>NaN</td>\n",
       "      <td>0</td>\n",
       "      <td>May 31st, 2011</td>\n",
       "      <td>Specialty Coffee Association</td>\n",
       "      <td>36d0d00a3724338ba7937c52a378d085f2172daa</td>\n",
       "      <td>0878a7d4b9d35ddbf0fe2ce69a2062cceb45a660</td>\n",
       "      <td>m</td>\n",
       "      <td>1600.0</td>\n",
       "      <td>1800.0</td>\n",
       "      <td>1700.0</td>\n",
       "    </tr>\n",
       "    <tr>\n",
       "      <th>3</th>\n",
       "      <td>89.00</td>\n",
       "      <td>Arabica</td>\n",
       "      <td>yidnekachew dabessa</td>\n",
       "      <td>Ethiopia</td>\n",
       "      <td>yidnekachew dabessa coffee plantation</td>\n",
       "      <td>NaN</td>\n",
       "      <td>wolensu</td>\n",
       "      <td>NaN</td>\n",
       "      <td>yidnekachew debessa coffee plantation</td>\n",
       "      <td>1800-2200</td>\n",
       "      <td>...</td>\n",
       "      <td>Green</td>\n",
       "      <td>2</td>\n",
       "      <td>March 25th, 2016</td>\n",
       "      <td>METAD Agricultural Development plc</td>\n",
       "      <td>309fcf77415a3661ae83e027f7e5f05dad786e44</td>\n",
       "      <td>19fef5a731de2db57d16da10287413f5f99bc2dd</td>\n",
       "      <td>m</td>\n",
       "      <td>1800.0</td>\n",
       "      <td>2200.0</td>\n",
       "      <td>2000.0</td>\n",
       "    </tr>\n",
       "    <tr>\n",
       "      <th>4</th>\n",
       "      <td>88.83</td>\n",
       "      <td>Arabica</td>\n",
       "      <td>metad plc</td>\n",
       "      <td>Ethiopia</td>\n",
       "      <td>metad plc</td>\n",
       "      <td>NaN</td>\n",
       "      <td>metad plc</td>\n",
       "      <td>2014/2015</td>\n",
       "      <td>metad agricultural developmet plc</td>\n",
       "      <td>1950-2200</td>\n",
       "      <td>...</td>\n",
       "      <td>Green</td>\n",
       "      <td>2</td>\n",
       "      <td>April 3rd, 2016</td>\n",
       "      <td>METAD Agricultural Development plc</td>\n",
       "      <td>309fcf77415a3661ae83e027f7e5f05dad786e44</td>\n",
       "      <td>19fef5a731de2db57d16da10287413f5f99bc2dd</td>\n",
       "      <td>m</td>\n",
       "      <td>1950.0</td>\n",
       "      <td>2200.0</td>\n",
       "      <td>2075.0</td>\n",
       "    </tr>\n",
       "  </tbody>\n",
       "</table>\n",
       "<p>5 rows × 43 columns</p>\n",
       "</div>"
      ],
      "text/plain": [
       "   total_cup_points  species                     owner country_of_origin  \\\n",
       "0             90.58  Arabica                 metad plc          Ethiopia   \n",
       "1             89.92  Arabica                 metad plc          Ethiopia   \n",
       "2             89.75  Arabica  grounds for health admin         Guatemala   \n",
       "3             89.00  Arabica       yidnekachew dabessa          Ethiopia   \n",
       "4             88.83  Arabica                 metad plc          Ethiopia   \n",
       "\n",
       "                                  farm_name lot_number       mill ico_number  \\\n",
       "0                                 metad plc        NaN  metad plc  2014/2015   \n",
       "1                                 metad plc        NaN  metad plc  2014/2015   \n",
       "2  san marcos barrancas \"san cristobal cuch        NaN        NaN        NaN   \n",
       "3     yidnekachew dabessa coffee plantation        NaN    wolensu        NaN   \n",
       "4                                 metad plc        NaN  metad plc  2014/2015   \n",
       "\n",
       "                                 company       altitude  ...  color  \\\n",
       "0      metad agricultural developmet plc      1950-2200  ...  Green   \n",
       "1      metad agricultural developmet plc      1950-2200  ...  Green   \n",
       "2                                    NaN  1600 - 1800 m  ...    NaN   \n",
       "3  yidnekachew debessa coffee plantation      1800-2200  ...  Green   \n",
       "4      metad agricultural developmet plc      1950-2200  ...  Green   \n",
       "\n",
       "  category_two_defects        expiration                  certification_body  \\\n",
       "0                    0   April 3rd, 2016  METAD Agricultural Development plc   \n",
       "1                    1   April 3rd, 2016  METAD Agricultural Development plc   \n",
       "2                    0    May 31st, 2011        Specialty Coffee Association   \n",
       "3                    2  March 25th, 2016  METAD Agricultural Development plc   \n",
       "4                    2   April 3rd, 2016  METAD Agricultural Development plc   \n",
       "\n",
       "                      certification_address  \\\n",
       "0  309fcf77415a3661ae83e027f7e5f05dad786e44   \n",
       "1  309fcf77415a3661ae83e027f7e5f05dad786e44   \n",
       "2  36d0d00a3724338ba7937c52a378d085f2172daa   \n",
       "3  309fcf77415a3661ae83e027f7e5f05dad786e44   \n",
       "4  309fcf77415a3661ae83e027f7e5f05dad786e44   \n",
       "\n",
       "                      certification_contact unit_of_measurement  \\\n",
       "0  19fef5a731de2db57d16da10287413f5f99bc2dd                   m   \n",
       "1  19fef5a731de2db57d16da10287413f5f99bc2dd                   m   \n",
       "2  0878a7d4b9d35ddbf0fe2ce69a2062cceb45a660                   m   \n",
       "3  19fef5a731de2db57d16da10287413f5f99bc2dd                   m   \n",
       "4  19fef5a731de2db57d16da10287413f5f99bc2dd                   m   \n",
       "\n",
       "  altitude_low_meters altitude_high_meters altitude_mean_meters  \n",
       "0              1950.0               2200.0               2075.0  \n",
       "1              1950.0               2200.0               2075.0  \n",
       "2              1600.0               1800.0               1700.0  \n",
       "3              1800.0               2200.0               2000.0  \n",
       "4              1950.0               2200.0               2075.0  \n",
       "\n",
       "[5 rows x 43 columns]"
      ]
     },
     "execution_count": 6,
     "metadata": {},
     "output_type": "execute_result"
    }
   ],
   "source": [
    "print(df.shape)\n",
    "df[df.columns].head()"
   ]
  },
  {
   "cell_type": "code",
   "execution_count": 7,
   "id": "c175b8ed-8414-4516-99c7-9380a6a42121",
   "metadata": {},
   "outputs": [
    {
     "data": {
      "text/plain": [
       "array(['Washed / Wet', nan, 'Natural / Dry', 'Pulped natural / honey',\n",
       "       'Semi-washed / Semi-pulped', 'Other'], dtype=object)"
      ]
     },
     "execution_count": 7,
     "metadata": {},
     "output_type": "execute_result"
    }
   ],
   "source": [
    "df[\"processing_method\"].unique()"
   ]
  },
  {
   "cell_type": "code",
   "execution_count": 8,
   "id": "156edbfe-6a6c-4a0e-baf4-572f5f388af6",
   "metadata": {},
   "outputs": [],
   "source": [
    "mean_score_by_country = df.groupby(by=\"country_of_origin\")[[\"total_cup_points\", \"acidity\"]].mean()"
   ]
  },
  {
   "cell_type": "markdown",
   "id": "4d4a9c4d-28a8-4aaa-893f-3207ed1d0bf4",
   "metadata": {},
   "source": [
    "### Analyzing the total scores by averaging the participants for countries"
   ]
  },
  {
   "cell_type": "code",
   "execution_count": 9,
   "id": "12a620c9-813e-423c-9254-05fc61d48fb9",
   "metadata": {},
   "outputs": [
    {
     "data": {
      "text/plain": [
       "<AxesSubplot:xlabel='country_of_origin'>"
      ]
     },
     "execution_count": 9,
     "metadata": {},
     "output_type": "execute_result"
    },
    {
     "data": {
      "text/plain": [
       "<Figure size 864x432 with 0 Axes>"
      ]
     },
     "metadata": {},
     "output_type": "display_data"
    },
    {
     "data": {
      "image/png": "[encoded data removed]",
      "text/plain": [
       "<Figure size 576x432 with 1 Axes>"
      ]
     },
     "metadata": {
      "needs_background": "light"
     },
     "output_type": "display_data"
    }
   ],
   "source": [
    "ffig = plt.figure(figsize=(12,6))\n",
    "mean_score_by_country.plot(kind=\"bar\")\n"
   ]
  },
  {
   "cell_type": "code",
   "execution_count": 10,
   "id": "2495a433-aa3f-42d7-9d5a-deb47843c42f",
   "metadata": {},
   "outputs": [],
   "source": [
    "# sorting descendent way\n",
    "mean_score_by_country.sort_values(by=\"total_cup_points\",axis=0, ascending=False, inplace=True )"
   ]
  },
  {
   "cell_type": "code",
   "execution_count": 11,
   "id": "1d51fa70-9a3d-418a-8185-085a3be4db7d",
   "metadata": {},
   "outputs": [
    {
     "data": {
      "text/plain": [
       "<AxesSubplot:xlabel='country_of_origin'>"
      ]
     },
     "execution_count": 11,
     "metadata": {},
     "output_type": "execute_result"
    },
    {
     "data": {
      "image/png": "[encoded data removed]",
      "text/plain": [
       "<Figure size 576x432 with 1 Axes>"
      ]
     },
     "metadata": {
      "needs_background": "light"
     },
     "output_type": "display_data"
    }
   ],
   "source": [
    "mean_score_by_country.plot(y=\"total_cup_points\", kind=\"bar\")#,logy=True)"
   ]
  },
  {
   "cell_type": "code",
   "execution_count": 12,
   "id": "b1cdacc0-63a2-4966-94e5-3932b2d3e491",
   "metadata": {},
   "outputs": [
    {
     "data": {
      "text/plain": [
       "Index(['total_cup_points', 'species', 'owner', 'country_of_origin',\n",
       "       'farm_name', 'lot_number', 'mill', 'ico_number', 'company', 'altitude',\n",
       "       'region', 'producer', 'number_of_bags', 'bag_weight',\n",
       "       'in_country_partner', 'harvest_year', 'grading_date', 'owner_1',\n",
       "       'variety', 'processing_method', 'aroma', 'flavor', 'aftertaste',\n",
       "       'acidity', 'body', 'balance', 'uniformity', 'clean_cup', 'sweetness',\n",
       "       'cupper_points', 'moisture', 'category_one_defects', 'quakers', 'color',\n",
       "       'category_two_defects', 'expiration', 'certification_body',\n",
       "       'certification_address', 'certification_contact', 'unit_of_measurement',\n",
       "       'altitude_low_meters', 'altitude_high_meters', 'altitude_mean_meters'],\n",
       "      dtype='object')"
      ]
     },
     "execution_count": 12,
     "metadata": {},
     "output_type": "execute_result"
    }
   ],
   "source": [
    "df.columns"
   ]
  },
  {
   "cell_type": "code",
   "execution_count": 13,
   "id": "c8363169-a67c-4581-8b53-2f1fdce47c14",
   "metadata": {},
   "outputs": [],
   "source": [
    "mean_score_flavor = df.groupby(by=\"country_of_origin\")[[\"total_cup_points\", \"flavor\", \"acidity\"]].mean()\n",
    "mean_score_flavor.sort_values(by=\"total_cup_points\",axis=0, ascending=False, inplace=True )"
   ]
  },
  {
   "cell_type": "code",
   "execution_count": 14,
   "id": "abb70882-e147-4ede-887d-ece4f404148e",
   "metadata": {},
   "outputs": [
    {
     "data": {
      "text/html": [
       "<div>\n",
       "<style scoped>\n",
       "    .dataframe tbody tr th:only-of-type {\n",
       "        vertical-align: middle;\n",
       "    }\n",
       "\n",
       "    .dataframe tbody tr th {\n",
       "        vertical-align: top;\n",
       "    }\n",
       "\n",
       "    .dataframe thead th {\n",
       "        text-align: right;\n",
       "    }\n",
       "</style>\n",
       "<table border=\"1\" class=\"dataframe\">\n",
       "  <thead>\n",
       "    <tr style=\"text-align: right;\">\n",
       "      <th></th>\n",
       "      <th>total_cup_points</th>\n",
       "      <th>flavor</th>\n",
       "      <th>acidity</th>\n",
       "    </tr>\n",
       "    <tr>\n",
       "      <th>country_of_origin</th>\n",
       "      <th></th>\n",
       "      <th></th>\n",
       "      <th></th>\n",
       "    </tr>\n",
       "  </thead>\n",
       "  <tbody>\n",
       "    <tr>\n",
       "      <th>Papua New Guinea</th>\n",
       "      <td>85.750000</td>\n",
       "      <td>8.420000</td>\n",
       "      <td>8.330000</td>\n",
       "    </tr>\n",
       "    <tr>\n",
       "      <th>Ethiopia</th>\n",
       "      <td>85.484091</td>\n",
       "      <td>8.009091</td>\n",
       "      <td>8.043636</td>\n",
       "    </tr>\n",
       "    <tr>\n",
       "      <th>Japan</th>\n",
       "      <td>84.670000</td>\n",
       "      <td>7.750000</td>\n",
       "      <td>7.420000</td>\n",
       "    </tr>\n",
       "    <tr>\n",
       "      <th>United States</th>\n",
       "      <td>84.433000</td>\n",
       "      <td>7.992000</td>\n",
       "      <td>7.935000</td>\n",
       "    </tr>\n",
       "    <tr>\n",
       "      <th>Kenya</th>\n",
       "      <td>84.309600</td>\n",
       "      <td>7.782400</td>\n",
       "      <td>7.866000</td>\n",
       "    </tr>\n",
       "  </tbody>\n",
       "</table>\n",
       "</div>"
      ],
      "text/plain": [
       "                   total_cup_points    flavor   acidity\n",
       "country_of_origin                                      \n",
       "Papua New Guinea          85.750000  8.420000  8.330000\n",
       "Ethiopia                  85.484091  8.009091  8.043636\n",
       "Japan                     84.670000  7.750000  7.420000\n",
       "United States             84.433000  7.992000  7.935000\n",
       "Kenya                     84.309600  7.782400  7.866000"
      ]
     },
     "execution_count": 14,
     "metadata": {},
     "output_type": "execute_result"
    },
    {
     "data": {
      "text/plain": [
       "<Figure size 864x432 with 0 Axes>"
      ]
     },
     "metadata": {},
     "output_type": "display_data"
    },
    {
     "data": {
      "image/png": "[encoded data removed]",
      "text/plain": [
       "<Figure size 576x432 with 1 Axes>"
      ]
     },
     "metadata": {
      "needs_background": "light"
     },
     "output_type": "display_data"
    }
   ],
   "source": [
    "fig = plt.figure(figsize=(12,6))\n",
    "mean_score_flavor.plot(y=[\"total_cup_points\", \"flavor\", \"acidity\"], kind=\"bar\")\n",
    "mean_score_flavor.head()"
   ]
  },
  {
   "cell_type": "markdown",
   "id": "650472cc-3039-4691-89ef-bbd95adb036f",
   "metadata": {},
   "source": [
    "### Removing outliers"
   ]
  },
  {
   "cell_type": "code",
   "execution_count": 15,
   "id": "3b5dd531-d04e-4345-aae1-0c0dd9bee122",
   "metadata": {},
   "outputs": [
    {
     "data": {
      "text/plain": [
       "<AxesSubplot:xlabel='total_cup_points', ylabel='altitude_mean_meters'>"
      ]
     },
     "execution_count": 15,
     "metadata": {},
     "output_type": "execute_result"
    },
    {
     "data": {
      "image/png": "[encoded data removed]",
      "text/plain": [
       "<Figure size 576x432 with 1 Axes>"
      ]
     },
     "metadata": {
      "needs_background": "light"
     },
     "output_type": "display_data"
    }
   ],
   "source": [
    "df.plot(x=\"total_cup_points\", y=\"altitude_mean_meters\", kind=\"scatter\")\n",
    "#plt.ylim(0,10000)"
   ]
  },
  {
   "cell_type": "code",
   "execution_count": 16,
   "id": "9cdee976-c395-4b3e-b2c2-d61a9790bec6",
   "metadata": {},
   "outputs": [],
   "source": [
    "df_clean = df[(df[\"altitude_mean_meters\"] < 10000) & (df[\"total_cup_points\"] > 0)]\n"
   ]
  },
  {
   "cell_type": "markdown",
   "id": "a96908f4-baaf-43e7-a8c0-253fed08a55d",
   "metadata": {},
   "source": [
    "### Correlation between score and mean altitude"
   ]
  },
  {
   "cell_type": "code",
   "execution_count": 17,
   "id": "3c16631d-902b-4181-b047-08d660881176",
   "metadata": {},
   "outputs": [
    {
     "data": {
      "text/plain": [
       "Text(0, 0.5, 'Flavor')"
      ]
     },
     "execution_count": 17,
     "metadata": {},
     "output_type": "execute_result"
    },
    {
     "data": {
      "image/png": "[encoded data removed]",
      "text/plain": [
       "<Figure size 576x432 with 2 Axes>"
      ]
     },
     "metadata": {
      "needs_background": "light"
     },
     "output_type": "display_data"
    }
   ],
   "source": [
    "df_clean.plot(x=\"total_cup_points\", y=\"altitude_mean_meters\", c=df_clean[\"flavor\"],kind=\"scatter\", linewidth=1, edgecolor=\"k\", s=30, colorbar=True)\n",
    "ax = plt.gcf()\n",
    "ax.get_axes()[1].set_ylabel(\"Flavor\")"
   ]
  },
  {
   "cell_type": "markdown",
   "id": "bd39a93b-d1ee-4e99-b3fb-21f8cf87e0c5",
   "metadata": {},
   "source": [
    "#### Grouping by country"
   ]
  },
  {
   "cell_type": "code",
   "execution_count": 18,
   "id": "f05689a5-656e-49e3-81f5-f77b4756395c",
   "metadata": {},
   "outputs": [],
   "source": [
    "df_clean_country_mean = df.groupby(by=\"country_of_origin\",as_index=False)[[\"total_cup_points\", \"acidity\",\"flavor\", \"altitude_mean_meters\"]].mean()"
   ]
  },
  {
   "cell_type": "code",
   "execution_count": 27,
   "id": "69853bde-71ff-4b32-b9d4-3214eec164aa",
   "metadata": {},
   "outputs": [
    {
     "data": {
      "text/html": [
       "<div>\n",
       "<style scoped>\n",
       "    .dataframe tbody tr th:only-of-type {\n",
       "        vertical-align: middle;\n",
       "    }\n",
       "\n",
       "    .dataframe tbody tr th {\n",
       "        vertical-align: top;\n",
       "    }\n",
       "\n",
       "    .dataframe thead th {\n",
       "        text-align: right;\n",
       "    }\n",
       "</style>\n",
       "<table border=\"1\" class=\"dataframe\">\n",
       "  <thead>\n",
       "    <tr style=\"text-align: right;\">\n",
       "      <th></th>\n",
       "      <th>country_of_origin</th>\n",
       "      <th>total_cup_points</th>\n",
       "      <th>acidity</th>\n",
       "      <th>flavor</th>\n",
       "      <th>altitude_mean_meters</th>\n",
       "    </tr>\n",
       "  </thead>\n",
       "  <tbody>\n",
       "    <tr>\n",
       "      <th>0</th>\n",
       "      <td>Brazil</td>\n",
       "      <td>82.405909</td>\n",
       "      <td>7.511439</td>\n",
       "      <td>7.573561</td>\n",
       "      <td>1016.771429</td>\n",
       "    </tr>\n",
       "    <tr>\n",
       "      <th>1</th>\n",
       "      <td>Burundi</td>\n",
       "      <td>81.830000</td>\n",
       "      <td>7.415000</td>\n",
       "      <td>7.460000</td>\n",
       "      <td>1790.000000</td>\n",
       "    </tr>\n",
       "    <tr>\n",
       "      <th>2</th>\n",
       "      <td>China</td>\n",
       "      <td>82.927500</td>\n",
       "      <td>7.578125</td>\n",
       "      <td>7.625625</td>\n",
       "      <td>1463.125000</td>\n",
       "    </tr>\n",
       "    <tr>\n",
       "      <th>3</th>\n",
       "      <td>Colombia</td>\n",
       "      <td>83.106557</td>\n",
       "      <td>7.560000</td>\n",
       "      <td>7.597104</td>\n",
       "      <td>1585.640000</td>\n",
       "    </tr>\n",
       "    <tr>\n",
       "      <th>4</th>\n",
       "      <td>Costa Rica</td>\n",
       "      <td>82.789020</td>\n",
       "      <td>7.573922</td>\n",
       "      <td>7.537255</td>\n",
       "      <td>1380.134783</td>\n",
       "    </tr>\n",
       "    <tr>\n",
       "      <th>5</th>\n",
       "      <td>Cote d?Ivoire</td>\n",
       "      <td>79.330000</td>\n",
       "      <td>7.000000</td>\n",
       "      <td>7.250000</td>\n",
       "      <td>200.000000</td>\n",
       "    </tr>\n",
       "    <tr>\n",
       "      <th>6</th>\n",
       "      <td>Ecuador</td>\n",
       "      <td>80.220000</td>\n",
       "      <td>7.693333</td>\n",
       "      <td>7.640000</td>\n",
       "      <td>420.000000</td>\n",
       "    </tr>\n",
       "    <tr>\n",
       "      <th>7</th>\n",
       "      <td>El Salvador</td>\n",
       "      <td>83.052857</td>\n",
       "      <td>7.590476</td>\n",
       "      <td>7.654286</td>\n",
       "      <td>1333.157895</td>\n",
       "    </tr>\n",
       "    <tr>\n",
       "      <th>8</th>\n",
       "      <td>Ethiopia</td>\n",
       "      <td>85.484091</td>\n",
       "      <td>8.043636</td>\n",
       "      <td>8.009091</td>\n",
       "      <td>1800.300667</td>\n",
       "    </tr>\n",
       "    <tr>\n",
       "      <th>9</th>\n",
       "      <td>Guatemala</td>\n",
       "      <td>81.846575</td>\n",
       "      <td>7.596409</td>\n",
       "      <td>7.489006</td>\n",
       "      <td>3860.261492</td>\n",
       "    </tr>\n",
       "    <tr>\n",
       "      <th>10</th>\n",
       "      <td>Haiti</td>\n",
       "      <td>77.180000</td>\n",
       "      <td>7.126667</td>\n",
       "      <td>6.998333</td>\n",
       "      <td>883.360000</td>\n",
       "    </tr>\n",
       "    <tr>\n",
       "      <th>11</th>\n",
       "      <td>Honduras</td>\n",
       "      <td>79.357547</td>\n",
       "      <td>7.233585</td>\n",
       "      <td>7.234151</td>\n",
       "      <td>1425.411765</td>\n",
       "    </tr>\n",
       "    <tr>\n",
       "      <th>12</th>\n",
       "      <td>India</td>\n",
       "      <td>81.082857</td>\n",
       "      <td>7.636429</td>\n",
       "      <td>7.618571</td>\n",
       "      <td>1421.666667</td>\n",
       "    </tr>\n",
       "    <tr>\n",
       "      <th>13</th>\n",
       "      <td>Indonesia</td>\n",
       "      <td>82.565500</td>\n",
       "      <td>7.491000</td>\n",
       "      <td>7.573000</td>\n",
       "      <td>1481.944444</td>\n",
       "    </tr>\n",
       "    <tr>\n",
       "      <th>14</th>\n",
       "      <td>Japan</td>\n",
       "      <td>84.670000</td>\n",
       "      <td>7.420000</td>\n",
       "      <td>7.750000</td>\n",
       "      <td>170.000000</td>\n",
       "    </tr>\n",
       "    <tr>\n",
       "      <th>15</th>\n",
       "      <td>Kenya</td>\n",
       "      <td>84.309600</td>\n",
       "      <td>7.866000</td>\n",
       "      <td>7.782400</td>\n",
       "      <td>1502.347826</td>\n",
       "    </tr>\n",
       "    <tr>\n",
       "      <th>16</th>\n",
       "      <td>Laos</td>\n",
       "      <td>81.833333</td>\n",
       "      <td>7.306667</td>\n",
       "      <td>7.500000</td>\n",
       "      <td>1283.333333</td>\n",
       "    </tr>\n",
       "    <tr>\n",
       "      <th>17</th>\n",
       "      <td>Malawi</td>\n",
       "      <td>81.711818</td>\n",
       "      <td>7.408182</td>\n",
       "      <td>7.387273</td>\n",
       "      <td>1403.545455</td>\n",
       "    </tr>\n",
       "    <tr>\n",
       "      <th>18</th>\n",
       "      <td>Mauritius</td>\n",
       "      <td>80.500000</td>\n",
       "      <td>7.170000</td>\n",
       "      <td>7.250000</td>\n",
       "      <td>280.000000</td>\n",
       "    </tr>\n",
       "    <tr>\n",
       "      <th>19</th>\n",
       "      <td>Mexico</td>\n",
       "      <td>80.890085</td>\n",
       "      <td>7.428347</td>\n",
       "      <td>7.379025</td>\n",
       "      <td>1235.362069</td>\n",
       "    </tr>\n",
       "    <tr>\n",
       "      <th>20</th>\n",
       "      <td>Myanmar</td>\n",
       "      <td>80.750000</td>\n",
       "      <td>7.406250</td>\n",
       "      <td>7.332500</td>\n",
       "      <td>2869.800000</td>\n",
       "    </tr>\n",
       "    <tr>\n",
       "      <th>21</th>\n",
       "      <td>Nicaragua</td>\n",
       "      <td>80.458077</td>\n",
       "      <td>7.266538</td>\n",
       "      <td>7.316923</td>\n",
       "      <td>7142.361111</td>\n",
       "    </tr>\n",
       "    <tr>\n",
       "      <th>22</th>\n",
       "      <td>Panama</td>\n",
       "      <td>83.707500</td>\n",
       "      <td>7.705000</td>\n",
       "      <td>7.625000</td>\n",
       "      <td>1515.000000</td>\n",
       "    </tr>\n",
       "    <tr>\n",
       "      <th>23</th>\n",
       "      <td>Papua New Guinea</td>\n",
       "      <td>85.750000</td>\n",
       "      <td>8.330000</td>\n",
       "      <td>8.420000</td>\n",
       "      <td>1700.000000</td>\n",
       "    </tr>\n",
       "    <tr>\n",
       "      <th>24</th>\n",
       "      <td>Peru</td>\n",
       "      <td>82.526000</td>\n",
       "      <td>7.699000</td>\n",
       "      <td>7.658000</td>\n",
       "      <td>1300.000000</td>\n",
       "    </tr>\n",
       "    <tr>\n",
       "      <th>25</th>\n",
       "      <td>Philippines</td>\n",
       "      <td>80.834000</td>\n",
       "      <td>7.266000</td>\n",
       "      <td>7.232000</td>\n",
       "      <td>1280.000000</td>\n",
       "    </tr>\n",
       "    <tr>\n",
       "      <th>26</th>\n",
       "      <td>Rwanda</td>\n",
       "      <td>82.830000</td>\n",
       "      <td>7.830000</td>\n",
       "      <td>7.920000</td>\n",
       "      <td>1900.000000</td>\n",
       "    </tr>\n",
       "    <tr>\n",
       "      <th>27</th>\n",
       "      <td>Taiwan</td>\n",
       "      <td>82.001333</td>\n",
       "      <td>7.415467</td>\n",
       "      <td>7.463600</td>\n",
       "      <td>729.271429</td>\n",
       "    </tr>\n",
       "    <tr>\n",
       "      <th>28</th>\n",
       "      <td>Tanzania, United Republic Of</td>\n",
       "      <td>82.369500</td>\n",
       "      <td>7.500000</td>\n",
       "      <td>7.429750</td>\n",
       "      <td>1562.729730</td>\n",
       "    </tr>\n",
       "    <tr>\n",
       "      <th>29</th>\n",
       "      <td>Thailand</td>\n",
       "      <td>82.573750</td>\n",
       "      <td>7.597188</td>\n",
       "      <td>7.528125</td>\n",
       "      <td>1094.992080</td>\n",
       "    </tr>\n",
       "    <tr>\n",
       "      <th>30</th>\n",
       "      <td>Uganda</td>\n",
       "      <td>83.451944</td>\n",
       "      <td>7.708611</td>\n",
       "      <td>7.752778</td>\n",
       "      <td>1590.823529</td>\n",
       "    </tr>\n",
       "    <tr>\n",
       "      <th>31</th>\n",
       "      <td>United States</td>\n",
       "      <td>84.433000</td>\n",
       "      <td>7.935000</td>\n",
       "      <td>7.992000</td>\n",
       "      <td>1866.888000</td>\n",
       "    </tr>\n",
       "    <tr>\n",
       "      <th>32</th>\n",
       "      <td>United States (Hawaii)</td>\n",
       "      <td>81.820411</td>\n",
       "      <td>7.615479</td>\n",
       "      <td>7.576438</td>\n",
       "      <td>518.160000</td>\n",
       "    </tr>\n",
       "    <tr>\n",
       "      <th>33</th>\n",
       "      <td>United States (Puerto Rico)</td>\n",
       "      <td>81.727500</td>\n",
       "      <td>7.602500</td>\n",
       "      <td>7.540000</td>\n",
       "      <td>853.440000</td>\n",
       "    </tr>\n",
       "    <tr>\n",
       "      <th>34</th>\n",
       "      <td>Vietnam</td>\n",
       "      <td>81.208750</td>\n",
       "      <td>7.362500</td>\n",
       "      <td>7.375000</td>\n",
       "      <td>1258.571429</td>\n",
       "    </tr>\n",
       "    <tr>\n",
       "      <th>35</th>\n",
       "      <td>Zambia</td>\n",
       "      <td>81.920000</td>\n",
       "      <td>7.330000</td>\n",
       "      <td>7.080000</td>\n",
       "      <td>1250.000000</td>\n",
       "    </tr>\n",
       "  </tbody>\n",
       "</table>\n",
       "</div>"
      ],
      "text/plain": [
       "               country_of_origin  total_cup_points   acidity    flavor  \\\n",
       "0                         Brazil         82.405909  7.511439  7.573561   \n",
       "1                        Burundi         81.830000  7.415000  7.460000   \n",
       "2                          China         82.927500  7.578125  7.625625   \n",
       "3                       Colombia         83.106557  7.560000  7.597104   \n",
       "4                     Costa Rica         82.789020  7.573922  7.537255   \n",
       "5                  Cote d?Ivoire         79.330000  7.000000  7.250000   \n",
       "6                        Ecuador         80.220000  7.693333  7.640000   \n",
       "7                    El Salvador         83.052857  7.590476  7.654286   \n",
       "8                       Ethiopia         85.484091  8.043636  8.009091   \n",
       "9                      Guatemala         81.846575  7.596409  7.489006   \n",
       "10                         Haiti         77.180000  7.126667  6.998333   \n",
       "11                      Honduras         79.357547  7.233585  7.234151   \n",
       "12                         India         81.082857  7.636429  7.618571   \n",
       "13                     Indonesia         82.565500  7.491000  7.573000   \n",
       "14                         Japan         84.670000  7.420000  7.750000   \n",
       "15                         Kenya         84.309600  7.866000  7.782400   \n",
       "16                          Laos         81.833333  7.306667  7.500000   \n",
       "17                        Malawi         81.711818  7.408182  7.387273   \n",
       "18                     Mauritius         80.500000  7.170000  7.250000   \n",
       "19                        Mexico         80.890085  7.428347  7.379025   \n",
       "20                       Myanmar         80.750000  7.406250  7.332500   \n",
       "21                     Nicaragua         80.458077  7.266538  7.316923   \n",
       "22                        Panama         83.707500  7.705000  7.625000   \n",
       "23              Papua New Guinea         85.750000  8.330000  8.420000   \n",
       "24                          Peru         82.526000  7.699000  7.658000   \n",
       "25                   Philippines         80.834000  7.266000  7.232000   \n",
       "26                        Rwanda         82.830000  7.830000  7.920000   \n",
       "27                        Taiwan         82.001333  7.415467  7.463600   \n",
       "28  Tanzania, United Republic Of         82.369500  7.500000  7.429750   \n",
       "29                      Thailand         82.573750  7.597188  7.528125   \n",
       "30                        Uganda         83.451944  7.708611  7.752778   \n",
       "31                 United States         84.433000  7.935000  7.992000   \n",
       "32        United States (Hawaii)         81.820411  7.615479  7.576438   \n",
       "33   United States (Puerto Rico)         81.727500  7.602500  7.540000   \n",
       "34                       Vietnam         81.208750  7.362500  7.375000   \n",
       "35                        Zambia         81.920000  7.330000  7.080000   \n",
       "\n",
       "    altitude_mean_meters  \n",
       "0            1016.771429  \n",
       "1            1790.000000  \n",
       "2            1463.125000  \n",
       "3            1585.640000  \n",
       "4            1380.134783  \n",
       "5             200.000000  \n",
       "6             420.000000  \n",
       "7            1333.157895  \n",
       "8            1800.300667  \n",
       "9            3860.261492  \n",
       "10            883.360000  \n",
       "11           1425.411765  \n",
       "12           1421.666667  \n",
       "13           1481.944444  \n",
       "14            170.000000  \n",
       "15           1502.347826  \n",
       "16           1283.333333  \n",
       "17           1403.545455  \n",
       "18            280.000000  \n",
       "19           1235.362069  \n",
       "20           2869.800000  \n",
       "21           7142.361111  \n",
       "22           1515.000000  \n",
       "23           1700.000000  \n",
       "24           1300.000000  \n",
       "25           1280.000000  \n",
       "26           1900.000000  \n",
       "27            729.271429  \n",
       "28           1562.729730  \n",
       "29           1094.992080  \n",
       "30           1590.823529  \n",
       "31           1866.888000  \n",
       "32            518.160000  \n",
       "33            853.440000  \n",
       "34           1258.571429  \n",
       "35           1250.000000  "
      ]
     },
     "execution_count": 27,
     "metadata": {},
     "output_type": "execute_result"
    }
   ],
   "source": [
    "df_clean_country_mean"
   ]
  },
  {
   "cell_type": "markdown",
   "id": "ed5d034b-8af1-44bd-8c9c-9289001dbc83",
   "metadata": {},
   "source": [
    "##### Direct relation between total points and the flavour score"
   ]
  },
  {
   "cell_type": "code",
   "execution_count": 20,
   "id": "0bb6f943-150a-4bff-8228-46169b33fcb2",
   "metadata": {},
   "outputs": [
    {
     "data": {
      "text/plain": [
       "<AxesSubplot:xlabel='flavor', ylabel='total_cup_points'>"
      ]
     },
     "execution_count": 20,
     "metadata": {},
     "output_type": "execute_result"
    },
    {
     "data": {
      "image/png": "[encoded data removed]",
      "text/plain": [
       "<Figure size 576x432 with 1 Axes>"
      ]
     },
     "metadata": {
      "needs_background": "light"
     },
     "output_type": "display_data"
    }
   ],
   "source": [
    "df_clean.plot(y=\"total_cup_points\", x=\"flavor\", kind=\"scatter\", linewidth=1, edgecolor=\"k\", s=30)\n"
   ]
  },
  {
   "cell_type": "markdown",
   "id": "2367d5d2-4775-412b-97e4-b076b5fc9046",
   "metadata": {},
   "source": [
    "#### Brands per country"
   ]
  },
  {
   "cell_type": "code",
   "execution_count": 21,
   "id": "5f8bb98d-d1af-4cd5-9e9b-5e6a9d651c04",
   "metadata": {},
   "outputs": [
    {
     "data": {
      "text/plain": [
       "<AxesSubplot:xlabel='country_of_origin'>"
      ]
     },
     "execution_count": 21,
     "metadata": {},
     "output_type": "execute_result"
    },
    {
     "data": {
      "image/png": "[encoded data removed]",
      "text/plain": [
       "<Figure size 576x432 with 1 Axes>"
      ]
     },
     "metadata": {
      "needs_background": "light"
     },
     "output_type": "display_data"
    }
   ],
   "source": [
    "country_participations =df_clean[\"country_of_origin\"].value_counts()\n",
    "country_participations.plot(kind = \"bar\")"
   ]
  },
  {
   "cell_type": "code",
   "execution_count": 22,
   "id": "0e2ce543-1ff5-4234-b33b-9fd0e96cb4c4",
   "metadata": {},
   "outputs": [
    {
     "data": {
      "text/html": [
       "<div>\n",
       "<style scoped>\n",
       "    .dataframe tbody tr th:only-of-type {\n",
       "        vertical-align: middle;\n",
       "    }\n",
       "\n",
       "    .dataframe tbody tr th {\n",
       "        vertical-align: top;\n",
       "    }\n",
       "\n",
       "    .dataframe thead th {\n",
       "        text-align: right;\n",
       "    }\n",
       "</style>\n",
       "<table border=\"1\" class=\"dataframe\">\n",
       "  <thead>\n",
       "    <tr style=\"text-align: right;\">\n",
       "      <th></th>\n",
       "      <th>country_of_origin</th>\n",
       "      <th>count</th>\n",
       "    </tr>\n",
       "  </thead>\n",
       "  <tbody>\n",
       "    <tr>\n",
       "      <th>0</th>\n",
       "      <td>Mexico</td>\n",
       "      <td>232</td>\n",
       "    </tr>\n",
       "    <tr>\n",
       "      <th>1</th>\n",
       "      <td>Guatemala</td>\n",
       "      <td>154</td>\n",
       "    </tr>\n",
       "    <tr>\n",
       "      <th>2</th>\n",
       "      <td>Colombia</td>\n",
       "      <td>150</td>\n",
       "    </tr>\n",
       "    <tr>\n",
       "      <th>3</th>\n",
       "      <td>Brazil</td>\n",
       "      <td>104</td>\n",
       "    </tr>\n",
       "    <tr>\n",
       "      <th>4</th>\n",
       "      <td>Taiwan</td>\n",
       "      <td>70</td>\n",
       "    </tr>\n",
       "  </tbody>\n",
       "</table>\n",
       "</div>"
      ],
      "text/plain": [
       "  country_of_origin  count\n",
       "0            Mexico    232\n",
       "1         Guatemala    154\n",
       "2          Colombia    150\n",
       "3            Brazil    104\n",
       "4            Taiwan     70"
      ]
     },
     "execution_count": 22,
     "metadata": {},
     "output_type": "execute_result"
    }
   ],
   "source": [
    "country_participations = pd.DataFrame(country_participations).reset_index()\n",
    "country_participations.head()"
   ]
  },
  {
   "cell_type": "code",
   "execution_count": 23,
   "id": "c2775576-51b6-4351-8c1c-dd37f1090f14",
   "metadata": {},
   "outputs": [
    {
     "data": {
      "text/html": [
       "<div>\n",
       "<style scoped>\n",
       "    .dataframe tbody tr th:only-of-type {\n",
       "        vertical-align: middle;\n",
       "    }\n",
       "\n",
       "    .dataframe tbody tr th {\n",
       "        vertical-align: top;\n",
       "    }\n",
       "\n",
       "    .dataframe thead th {\n",
       "        text-align: right;\n",
       "    }\n",
       "</style>\n",
       "<table border=\"1\" class=\"dataframe\">\n",
       "  <thead>\n",
       "    <tr style=\"text-align: right;\">\n",
       "      <th></th>\n",
       "      <th>total_cup_points</th>\n",
       "      <th>species</th>\n",
       "      <th>owner</th>\n",
       "      <th>country_of_origin</th>\n",
       "      <th>farm_name</th>\n",
       "      <th>lot_number</th>\n",
       "      <th>mill</th>\n",
       "      <th>ico_number</th>\n",
       "      <th>company</th>\n",
       "      <th>altitude</th>\n",
       "      <th>...</th>\n",
       "      <th>color</th>\n",
       "      <th>category_two_defects</th>\n",
       "      <th>expiration</th>\n",
       "      <th>certification_body</th>\n",
       "      <th>certification_address</th>\n",
       "      <th>certification_contact</th>\n",
       "      <th>unit_of_measurement</th>\n",
       "      <th>altitude_low_meters</th>\n",
       "      <th>altitude_high_meters</th>\n",
       "      <th>altitude_mean_meters</th>\n",
       "    </tr>\n",
       "  </thead>\n",
       "  <tbody>\n",
       "    <tr>\n",
       "      <th>1200</th>\n",
       "      <td>79.0</td>\n",
       "      <td>Arabica</td>\n",
       "      <td>sustainable harvest coffee</td>\n",
       "      <td>Peru</td>\n",
       "      <td>NaN</td>\n",
       "      <td>NaN</td>\n",
       "      <td>NaN</td>\n",
       "      <td>030-0582-0050</td>\n",
       "      <td>sustainable harvest</td>\n",
       "      <td>1400</td>\n",
       "      <td>...</td>\n",
       "      <td>NaN</td>\n",
       "      <td>4</td>\n",
       "      <td>January 8th, 2014</td>\n",
       "      <td>Specialty Coffee Association</td>\n",
       "      <td>36d0d00a3724338ba7937c52a378d085f2172daa</td>\n",
       "      <td>0878a7d4b9d35ddbf0fe2ce69a2062cceb45a660</td>\n",
       "      <td>m</td>\n",
       "      <td>1400.0</td>\n",
       "      <td>1400.0</td>\n",
       "      <td>1400.0</td>\n",
       "    </tr>\n",
       "    <tr>\n",
       "      <th>1259</th>\n",
       "      <td>77.0</td>\n",
       "      <td>Arabica</td>\n",
       "      <td>andrew bowman</td>\n",
       "      <td>Peru</td>\n",
       "      <td>producer group (approx. 1,000 farmers)</td>\n",
       "      <td>NaN</td>\n",
       "      <td>NaN</td>\n",
       "      <td>30</td>\n",
       "      <td>tony's coffee and teas, inc.</td>\n",
       "      <td>900-1500 masl</td>\n",
       "      <td>...</td>\n",
       "      <td>Green</td>\n",
       "      <td>9</td>\n",
       "      <td>June 15th, 2016</td>\n",
       "      <td>Specialty Coffee Association</td>\n",
       "      <td>36d0d00a3724338ba7937c52a378d085f2172daa</td>\n",
       "      <td>0878a7d4b9d35ddbf0fe2ce69a2062cceb45a660</td>\n",
       "      <td>m</td>\n",
       "      <td>900.0</td>\n",
       "      <td>1500.0</td>\n",
       "      <td>1200.0</td>\n",
       "    </tr>\n",
       "  </tbody>\n",
       "</table>\n",
       "<p>2 rows × 43 columns</p>\n",
       "</div>"
      ],
      "text/plain": [
       "      total_cup_points  species                       owner country_of_origin  \\\n",
       "1200              79.0  Arabica  sustainable harvest coffee              Peru   \n",
       "1259              77.0  Arabica               andrew bowman              Peru   \n",
       "\n",
       "                                   farm_name lot_number mill     ico_number  \\\n",
       "1200                                     NaN        NaN  NaN  030-0582-0050   \n",
       "1259  producer group (approx. 1,000 farmers)        NaN  NaN             30   \n",
       "\n",
       "                           company       altitude  ...  color  \\\n",
       "1200           sustainable harvest           1400  ...    NaN   \n",
       "1259  tony's coffee and teas, inc.  900-1500 masl  ...  Green   \n",
       "\n",
       "     category_two_defects         expiration            certification_body  \\\n",
       "1200                    4  January 8th, 2014  Specialty Coffee Association   \n",
       "1259                    9    June 15th, 2016  Specialty Coffee Association   \n",
       "\n",
       "                         certification_address  \\\n",
       "1200  36d0d00a3724338ba7937c52a378d085f2172daa   \n",
       "1259  36d0d00a3724338ba7937c52a378d085f2172daa   \n",
       "\n",
       "                         certification_contact unit_of_measurement  \\\n",
       "1200  0878a7d4b9d35ddbf0fe2ce69a2062cceb45a660                   m   \n",
       "1259  0878a7d4b9d35ddbf0fe2ce69a2062cceb45a660                   m   \n",
       "\n",
       "     altitude_low_meters altitude_high_meters altitude_mean_meters  \n",
       "1200              1400.0               1400.0               1400.0  \n",
       "1259               900.0               1500.0               1200.0  \n",
       "\n",
       "[2 rows x 43 columns]"
      ]
     },
     "execution_count": 23,
     "metadata": {},
     "output_type": "execute_result"
    }
   ],
   "source": [
    "df_peru = df_clean[df_clean[\"country_of_origin\"]==\"Peru\"]\n",
    "df_peru"
   ]
  },
  {
   "cell_type": "markdown",
   "id": "c9cc0534-e0d5-4df7-b0f9-834f737f9dd9",
   "metadata": {},
   "source": [
    "#### Loading to Shimoku dashboard"
   ]
  },
  {
   "cell_type": "code",
   "execution_count": 33,
   "id": "88193a61-2f50-41fd-a55f-2362c63581d0",
   "metadata": {},
   "outputs": [],
   "source": [
    "# coffee board\n",
    "s.set_board('Coffee Rank Board')\n",
    "\n",
    "s.set_menu_path('catalog', 'bar-example')\n",
    "s.plt.bar(\n",
    "    data=df_clean_country_mean[['country_of_origin','acidity', \"flavor\"]],\n",
    "    y=['acidity', \"flavor\"],\n",
    "    order=0, title='Acidity and flavor by country',\n",
    "     x='country_of_origin',\n",
    "    y_axis_name=\"Grade\",\n",
    "    x_axis_name=\"Country\"\n",
    ")\n",
    "s.pop_out_of_menu_path()\n",
    "\n",
    "# catalog of \n",
    "\n",
    "# points by country\n",
    "s.set_menu_path('catalog', 'Scores')\n",
    "s.plt.bar(\n",
    "    data=df_clean_country_mean.sort_values(by=\"total_cup_points\", ascending=False),\n",
    "    y=['total_cup_points'],\n",
    "    order=0, title='Mean points by coutry',\n",
    "     x='country_of_origin',\n",
    "    y_axis_name=\"Total points\",\n",
    "    x_axis_name=\"Country\"\n",
    ")\n",
    "\n",
    "# number of participants by country\n",
    "s.set_menu_path('catalog', 'Participats by country')\n",
    "s.plt.bar(\n",
    "        data=country_participations[[\"count\",\"country_of_origin\"]], y=\"count\",x=[\"country_of_origin\"],\n",
    "        x_axis_name='Number of participants',\n",
    "        order=0, show_values=[\"count\"]\n",
    "    )\n",
    "\n",
    "\n",
    "# flavour influence in total points\n",
    "# correlation\n",
    "s.set_menu_path('catalog', 'Flavour predominance in total points')\n",
    "s.plt.scatter(\n",
    "    point_fields=[( \"flavor\" ,\"total_cup_points\")],\n",
    "    data=df_clean[[\"total_cup_points\", \"flavor\"]],\n",
    "    order=0, title='Flavour predominance in total points',\n",
    "     \n",
    "    x_axis_name=\"Flavor\",\n",
    "    y_axis_name=\"Total points\"\n",
    "\n",
    ")\n",
    "\n",
    "# correlation between the altitude and  flavour\n",
    "s.set_menu_path('catalog', 'Correlation: Flavour-Altitude')\n",
    "s.plt.scatter(\n",
    "    point_fields=[(\"altitude_mean_meters\",'flavor')],\n",
    "    data=df_clean[[\"altitude_mean_meters\",'flavor']],\n",
    "    order=0, title='Flavor and mean altitude',\n",
    "    y_axis_name=\"Flavor\",\n",
    "    x_axis_name=\"Mean altitude (m)\"\n",
    ")\n",
    "\n"
   ]
  },
  {
   "cell_type": "code",
   "execution_count": 30,
   "id": "5487a3ae-28d0-459a-9364-ee51f06ddbad",
   "metadata": {},
   "outputs": [
    {
     "data": {
      "text/html": [
       "<div>\n",
       "<style scoped>\n",
       "    .dataframe tbody tr th:only-of-type {\n",
       "        vertical-align: middle;\n",
       "    }\n",
       "\n",
       "    .dataframe tbody tr th {\n",
       "        vertical-align: top;\n",
       "    }\n",
       "\n",
       "    .dataframe thead th {\n",
       "        text-align: right;\n",
       "    }\n",
       "</style>\n",
       "<table border=\"1\" class=\"dataframe\">\n",
       "  <thead>\n",
       "    <tr style=\"text-align: right;\">\n",
       "      <th></th>\n",
       "      <th>acidity</th>\n",
       "      <th>flavor</th>\n",
       "    </tr>\n",
       "  </thead>\n",
       "  <tbody>\n",
       "    <tr>\n",
       "      <th>0</th>\n",
       "      <td>8.75</td>\n",
       "      <td>8.83</td>\n",
       "    </tr>\n",
       "    <tr>\n",
       "      <th>1</th>\n",
       "      <td>8.58</td>\n",
       "      <td>8.67</td>\n",
       "    </tr>\n",
       "    <tr>\n",
       "      <th>2</th>\n",
       "      <td>8.42</td>\n",
       "      <td>8.50</td>\n",
       "    </tr>\n",
       "    <tr>\n",
       "      <th>3</th>\n",
       "      <td>8.42</td>\n",
       "      <td>8.58</td>\n",
       "    </tr>\n",
       "    <tr>\n",
       "      <th>4</th>\n",
       "      <td>8.50</td>\n",
       "      <td>8.50</td>\n",
       "    </tr>\n",
       "    <tr>\n",
       "      <th>...</th>\n",
       "      <td>...</td>\n",
       "      <td>...</td>\n",
       "    </tr>\n",
       "    <tr>\n",
       "      <th>1331</th>\n",
       "      <td>7.33</td>\n",
       "      <td>7.67</td>\n",
       "    </tr>\n",
       "    <tr>\n",
       "      <th>1332</th>\n",
       "      <td>7.83</td>\n",
       "      <td>7.42</td>\n",
       "    </tr>\n",
       "    <tr>\n",
       "      <th>1333</th>\n",
       "      <td>7.42</td>\n",
       "      <td>7.50</td>\n",
       "    </tr>\n",
       "    <tr>\n",
       "      <th>1335</th>\n",
       "      <td>7.75</td>\n",
       "      <td>7.67</td>\n",
       "    </tr>\n",
       "    <tr>\n",
       "      <th>1336</th>\n",
       "      <td>7.42</td>\n",
       "      <td>7.33</td>\n",
       "    </tr>\n",
       "  </tbody>\n",
       "</table>\n",
       "<p>1104 rows × 2 columns</p>\n",
       "</div>"
      ],
      "text/plain": [
       "      acidity  flavor\n",
       "0        8.75    8.83\n",
       "1        8.58    8.67\n",
       "2        8.42    8.50\n",
       "3        8.42    8.58\n",
       "4        8.50    8.50\n",
       "...       ...     ...\n",
       "1331     7.33    7.67\n",
       "1332     7.83    7.42\n",
       "1333     7.42    7.50\n",
       "1335     7.75    7.67\n",
       "1336     7.42    7.33\n",
       "\n",
       "[1104 rows x 2 columns]"
      ]
     },
     "execution_count": 30,
     "metadata": {},
     "output_type": "execute_result"
    }
   ],
   "source": [
    "df_clean[['acidity', \"flavor\"]]"
   ]
  },
  {
   "cell_type": "code",
   "execution_count": null,
   "id": "7af9edd6-7566-4b0b-89d5-d14801ff533a",
   "metadata": {},
   "outputs": [],
   "source": []
  }
 ],
 "metadata": {
  "kernelspec": {
   "display_name": "Python 3 (ipykernel)",
   "language": "python",
   "name": "python3"
  },
  "language_info": {
   "codemirror_mode": {
    "name": "ipython",
    "version": 3
   },
   "file_extension": ".py",
   "mimetype": "text/x-python",
   "name": "python",
   "nbconvert_exporter": "python",
   "pygments_lexer": "ipython3",
   "version": "3.10.12"
  }
 },
 "nbformat": 4,
 "nbformat_minor": 5
}
